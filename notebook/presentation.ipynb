{
 "cells": [
  {
   "cell_type": "markdown",
   "metadata": {},
   "source": [
    "# Arthas简介\n",
    "\n",
    "[Arthas](https://arthas.gitee.io/index.html)（阿尔萨斯） 能为你做什么？\n",
    "\n",
    "![](assets/arthas.png)\n",
    "\n",
    "Arthas 是Alibaba开源的Java诊断工具，深受开发者喜爱。\n",
    "\n",
    "当你遇到以下类似问题而束手无策时，Arthas可以帮助你解决：\n",
    "\n",
    "1. 这个类从哪个 jar 包加载的？为什么会报各种类相关的 Exception？`sc`\n",
    "2. 我改的代码为什么没有执行到？难道是我没 commit？分支搞错了？ `trace/jad`\n",
    "3. 遇到问题无法在线上 debug，难道只能通过加日志再重新发布吗？  `redefine`\n",
    "4. 线上遇到某个用户的数据处理有问题，但线上同样无法 debug，线下无法重现！ `tt`\n",
    "5. 是否有一个全局视角来查看系统的运行状况？ `dashboard`\n",
    "6. 有什么办法可以监控到JVM的实时运行状态？  `jvm/dashboard/thread`\n",
    "7. 怎么快速定位应用的热点，生成火焰图？ `profiler`\n",
    "\n",
    "Arthas支持JDK 6+，支持Linux/Mac/Winodws，采用命令行交互模式，同时提供丰富的 Tab 自动补全功能，进一步方便进行问题的定位和诊断。"
   ]
  },
  {
   "cell_type": "code",
   "execution_count": 1,
   "metadata": {},
   "outputs": [],
   "source": [
    "import socket\n",
    "import requests\n",
    "\n",
    "def run(command):\n",
    "    client = socket.socket(socket.AF_INET,socket.SOCK_STREAM) \n",
    "    client.connect(('localhost',8999))\n",
    "    client.send(command.encode('utf8'))\n",
    "    client.close()\n",
    "\n",
    "def trigger(name):\n",
    "    url = f'http://127.0.0.1:8080/{name}'\n",
    "    print(requests.get(url).text)\n",
    "    "
   ]
  },
  {
   "cell_type": "markdown",
   "metadata": {},
   "source": [
    "# 原理简介\n",
    "\n",
    "## Java Agent\n",
    "Java Agent 是在 JDK1.5 引入的，是一种可以动态修改 Java 字节码的技术。\n",
    "Java 类编译之后形成字节码被 JVM 执行，在 JVM 在执行这些字节码之前获取这些字节码信息，并且通过字节码转换器对这些字节码进行修改，来完成一些额外的功能。\n",
    "\n",
    "## 功能\n",
    "* Java Agent 能够在加载 Java 字节码之前进行拦截并对字节码进行修改;\n",
    "* 在 Jvm 运行期间修改已经加载的字节码;\n",
    "\n",
    "常用于：\n",
    "* class文件加密\n",
    "* 性能监控"
   ]
  },
  {
   "cell_type": "markdown",
   "metadata": {
    "jupyter": {
     "source_hidden": true
    }
   },
   "source": [
    "# Java Agent\n",
    "\n",
    "## 相关的开源工具和项目\n",
    "* arthas, 在线排查问题，动态追踪Java代码，实时监控JVM\n",
    "* Skywalking，Apache的链路追踪工具\n",
    "* jvm-profiler，Uber的JVM采集工具，收集各项指标\n",
    "\n",
    "## 原理\n",
    "字节码转换器的执行方式有两种：\n",
    "1. `main`执行之前，`premain`的方式\n",
    "2. 程序执行中，`attach`的方式\n",
    "\n",
    "## 相关概念\n",
    "* JVMTI  \n",
    "> JVM Tool Interface, 是JVM暴露给用户的回调借口，基于事件驱动，是Debugger、Profiler、Monitor、Thread Analyser 等工具的基础\n",
    "* JVMTIAgent\n",
    "> 一般通过Agent的方式使用JVMTI，设置一些回调函数从而获得JVM的相关信息\n",
    "* Instrument Agent\n",
    "> JVMTI Agent的一个实现，支持启动、运行期加载agent\n",
    "* JVM Attach\n",
    "> JVM 提供的一种 JVM 进程间通信的功能，能让一个进程传命令给另一个进程，并进行一些内部的操作。比如dump、jstack\n",
    "\n",
    "## 实现Java Agent的框架\n",
    "* ASM，直接生产class字节码文件\n",
    "* Javassist，使用Java编码的形式操作字节码\n",
    "* Instrument，JVM提供的支持修改已加载类的工具\n",
    "* Byte Buddy，提供了类型安全的API和注解，简化复杂的字节码操作\n",
    "\n",
    "[Arthas原理](https://www.jianshu.com/p/70c1c55f12ef)"
   ]
  },
  {
   "cell_type": "markdown",
   "metadata": {
    "pycharm": {
     "name": "#%% md\n"
    }
   },
   "source": [
    "# 安装\n",
    "\n",
    "```shell\n",
    "curl -sk https://arthas.gitee.io/arthas-boot.jar -o ~/.arthas-boot.jar \\\n",
    "&& echo \"alias as.sh='java -jar ~/.arthas-boot.jar --repo-mirror aliyun --use-http'\" >> ~/.bashrc \\\n",
    "&& source ~/.bashrc\n",
    "```\n",
    "\n",
    "> -s: 不输出错误和进度 -k: 跳过SSL检测 -o: 存储为文件\n",
    "\n",
    "## 启动\n",
    "```\n",
    "as.sh [pid]\n",
    "或\n",
    "java -jar ~/.arthas-boot.jar [pid]\n",
    "```\n"
   ]
  },
  {
   "cell_type": "markdown",
   "metadata": {},
   "source": [
    "# 命令列表\n",
    "[官网命令列表](https://arthas.gitee.io/commands.html)\n",
    "\n",
    "## jvm相关\n",
    "* `dashboard`——当前系统的实时数据面板\n",
    "* `thread`——查看当前 JVM 的线程堆栈信息\n",
    "* `jvm`——查看当前 JVM 的信息\n",
    "* `sysprop`——查看和修改JVM的系统属性\n",
    "* `sysenv`——查看JVM的环境变量\n",
    "* `vmoption`——查看和修改JVM里诊断相关的option\n",
    "* `perfcounter`——查看当前 JVM 的Perf Counter信息\n",
    "* `logger`——查看和修改logger\n",
    "* `getstatic`——查看类的静态属性\n",
    "* `ognl`——执行ognl表达式\n",
    "* `mbean`——查看 Mbean 的信息\n",
    "* `heapdump`——dump java heap, 类似jmap命令的heap dump功能\n",
    "## class/classloader相关\n",
    "* `sc`——查看JVM已加载的类信息\n",
    "* `sm`——查看已加载类的方法信息\n",
    "* `jad`——反编译指定已加载类的源码\n",
    "* `mc`——内存编译器，内存编译.java文件为.class文件\n",
    "* `redefine`——加载外部的.class文件，redefine到JVM里\n",
    "* `dump`——dump 已加载类的 byte code 到特定目录\n",
    "* `classloader`——查看classloader的继承树，urls，类加载信息，使用classloader去getResource\n",
    "## monitor/watch/trace相关\n",
    "请注意，这些命令，都通过字节码增强技术来实现的，会在指定类的方法中插入一些切面来实现数据统计和观测，因此在线上、预发使用时，请尽量明确需要观测的类、方法以及条件，诊断结束要执行 stop 或将增强过的类执行 reset 命令。\n",
    "* `monitor`——方法执行监控\n",
    "* `watch`——方法执行数据观测\n",
    "* `trace`——方法内部调用路径，并输出方法路径上的每个节点上耗时\n",
    "* `stack`——输出当前方法被调用的调用路径\n",
    "* `tt`——方法执行数据的时空隧道，记录下指定方法每次调用的入参和返回信息，并能对这些不同的时间下调用进行观测\n",
    "## profiler/火焰图\n",
    "* `profiler`–使用async-profiler对应用采样，生成火焰图"
   ]
  },
  {
   "cell_type": "markdown",
   "metadata": {},
   "source": [
    "# 示例"
   ]
  },
  {
   "cell_type": "markdown",
   "metadata": {},
   "source": [
    "## 死锁排查\n",
    "\n",
    "使用 `thread`命令排查死锁问题(阻塞问题)\n",
    "\n",
    "> 死锁的四个必要条件:互斥条件、请求和保持条件、不可抢占条件、循环等待条件\n",
    "\n",
    "```java\n",
    "public void doDeadLock() {\n",
    "    new Thread(() -> {\n",
    "        resourceA.lock();\n",
    "        sleep(1000);\n",
    "        resourceB.lock();\n",
    "    }).start();\n",
    "    new Thread(() -> {\n",
    "        resourceB.lock();\n",
    "        sleep(1000);\n",
    "        resourceA.lock();\n",
    "    }).start();\n",
    "}\n",
    "```"
   ]
  },
  {
   "cell_type": "markdown",
   "metadata": {},
   "source": [
    "* 传统的方式: `jstack`  \n",
    "`jstack [pid]`  \n",
    "信息非常多且杂乱"
   ]
  },
  {
   "cell_type": "code",
   "execution_count": 2,
   "metadata": {},
   "outputs": [
    {
     "name": "stdout",
     "output_type": "stream",
     "text": [
      "OK\n"
     ]
    }
   ],
   "source": [
    "# 1. 触发死锁程序\n",
    "trigger('dead-lock')"
   ]
  },
  {
   "cell_type": "code",
   "execution_count": 8,
   "metadata": {},
   "outputs": [],
   "source": [
    "# 2. 查看阻塞线程\n",
    "run('thread -b')\n",
    "# 查看线程堆栈信息\n",
    "# run('thread [tid]') "
   ]
  },
  {
   "cell_type": "code",
   "execution_count": 5,
   "metadata": {},
   "outputs": [
    {
     "name": "stdout",
     "output_type": "stream",
     "text": [
      "OK\n"
     ]
    }
   ],
   "source": [
    "# 3. 释放进程资源\n",
    "trigger('release-dead-lock')"
   ]
  },
  {
   "cell_type": "markdown",
   "metadata": {},
   "source": [
    "## 更新日志级别\n",
    "使用`logger`命令查看日志信息，更新日志级别\n",
    "\n",
    "Usage:\n",
    "```\n",
    "logger [-c classloader] [-l level] [-n name]\n",
    "```"
   ]
  },
  {
   "cell_type": "markdown",
   "metadata": {},
   "source": [
    "* 传统方式\n",
    "1. 改配置，重启\n",
    "2. 使用logback等，支持配置热加载的日志组件\n",
    "3. 预留后门"
   ]
  },
  {
   "cell_type": "code",
   "execution_count": 12,
   "metadata": {},
   "outputs": [],
   "source": [
    "# 查看日志相关配置信息\n",
    "run('logger')"
   ]
  },
  {
   "cell_type": "code",
   "execution_count": 13,
   "metadata": {},
   "outputs": [
    {
     "name": "stdout",
     "output_type": "stream",
     "text": [
      "OK\n"
     ]
    }
   ],
   "source": [
    "# 记录日志\n",
    "trigger('start-logger')"
   ]
  },
  {
   "cell_type": "code",
   "execution_count": null,
   "metadata": {},
   "outputs": [],
   "source": [
    "# 设置日志级别\n",
    "# run('logger -l info -n *** -c ***')"
   ]
  },
  {
   "cell_type": "code",
   "execution_count": 14,
   "metadata": {},
   "outputs": [
    {
     "name": "stdout",
     "output_type": "stream",
     "text": [
      "OK\n"
     ]
    }
   ],
   "source": [
    "# 关闭日志记录\n",
    "trigger('stop-logger')"
   ]
  },
  {
   "cell_type": "markdown",
   "metadata": {},
   "source": [
    "## OGNL 为所欲为\n",
    "### 什么是OGNL\n",
    "OGNL 是 Object-Graph Navigation Language 的缩写（对象导航图语言），从语言角度来说：它是一个功能强大的表达式语言（EL），用来获取和设置 java 对象的属性 , **它旨在提供一个更高抽象度语法来对 java 对象图进行导航**，OGNL 在许多的地方都有应用\n",
    "\n",
    "[官网](https://commons.apache.org/proper/commons-ognl/language-guide.html)\n",
    "### OGNL表达式\n",
    "1. 常量 字符串:\"ello\"、字符:'h'、数字:int,long,float,double,BigInteger,BigDecimal、布尔值:ture|false、null\n",
    "2. 属性的引用 例如：user.name\n",
    "3. 变量的引用 例如：#name\n",
    "4. 静态变量的访问 使用 @class@field\n",
    "5. 静态方法的调用 使用 @class@method(args), 如果没有指定 class 那么默认就使用 java.lang.Math.\n",
    "6. 构造函数的调用 例如：new java.util.ArrayList();"
   ]
  },
  {
   "cell_type": "markdown",
   "metadata": {},
   "source": [
    "### watch 观察方法调用\n",
    "USAGE:\n",
    "```\n",
    "watch [-befs]  [-n <times>] class-pattern method-pattern [express] [condition-express]\n",
    "\n",
    "watch org.apache.commons.lang.StringUtils isBlank '{params, target, returnObj}' -x 2\n",
    "```\n",
    "观察到指定方法的调用情况。能观察到的范围为：返回值、抛出异常、入参，通过编写 `OGNL` 表达式进行对应变量的查看。\n",
    "\n",
    "匹配表达式、观察表达式都是围绕着一个 Arthas 中的通用通知对象[表达式核心变量](https://arthas.gitee.io/advice-class.html)\n",
    "```java\n",
    "public class Advice {\n",
    "    private final ClassLoader loader;\n",
    "    private final Class<?> clazz;\n",
    "    private final ArthasMethod method;\n",
    "    private final Object target;\n",
    "    private final Object[] params;\n",
    "    private final Object returnObj;\n",
    "    private final Throwable throwExp;\n",
    "    private final boolean isBefore;\n",
    "    private final boolean isThrow;\n",
    "    private final boolean isReturn;\n",
    "    // getter/setter  \n",
    "}  \n",
    "```"
   ]
  },
  {
   "cell_type": "code",
   "execution_count": 51,
   "metadata": {},
   "outputs": [
    {
     "name": "stdout",
     "output_type": "stream",
     "text": [
      "{\"name\":\"黄天翊\",\"birthday\":\"1999-08-09\",\"male\":true,\"age\":21}\n"
     ]
    }
   ],
   "source": [
    "# 创建用户\n",
    "trigger('create-user')"
   ]
  },
  {
   "cell_type": "code",
   "execution_count": 33,
   "metadata": {},
   "outputs": [],
   "source": [
    "# 观察创建用户\n",
    "# run(\"watch *WatchDemo supplyUser '{returnObj}' -n 2 -x 1 '1==1'\")\n",
    "# run(\"watch *WatchDemo supplyUser '{returnObj}' -n 2 -x 1 'returnObj.age>18'\")\n",
    "# run(\"watch *WatchDemo supplyUser '{class,method,target,params,returnObj}' -x2 -n2\")\n",
    "run(\"watch *WatchDemo supplyUser 'target.userCount' -n 5\")"
   ]
  },
  {
   "cell_type": "markdown",
   "metadata": {},
   "source": [
    "---"
   ]
  },
  {
   "cell_type": "code",
   "execution_count": 43,
   "metadata": {},
   "outputs": [
    {
     "name": "stdout",
     "output_type": "stream",
     "text": [
      "禁止消费未成年人\n"
     ]
    }
   ],
   "source": [
    "# 消费成年人\n",
    "trigger('consume-adult')"
   ]
  },
  {
   "cell_type": "code",
   "execution_count": 41,
   "metadata": {},
   "outputs": [],
   "source": [
    "# 观察消费用户\n",
    "# run(\"watch *WatchDemo consumeUser '{returnObj, params[0].age, throwExp}' -n 5 -x 2\")\n",
    "run(\"watch *WatchDemo consumeUser '{params[0].name, params[0].age, throwExp}' 'params[0].age<18' -n 1\")\n",
    "# run(\"watch *WatchDemo consumeUser '{params[0].name, params[0].age, throwExp}' -e\")"
   ]
  },
  {
   "cell_type": "markdown",
   "metadata": {},
   "source": [
    "---"
   ]
  },
  {
   "cell_type": "code",
   "execution_count": 47,
   "metadata": {},
   "outputs": [
    {
     "name": "stdout",
     "output_type": "stream",
     "text": [
      "{\"19\":[{\"name\":\"龙绍齐\",\"birthday\":\"2001-05-16\",\"male\":true,\"age\":19}],\"20\":[{\"name\":\"田明轩\",\"birthday\":\"2000-05-26\",\"male\":false,\"age\":20},{\"name\":\"于晓啸\",\"birthday\":\"2000-04-23\",\"male\":true,\"age\":20}],\"21\":[{\"name\":\"沈锦程\",\"birthday\":\"1999-12-19\",\"male\":true,\"age\":21},{\"name\":\"洪昊天\",\"birthday\":\"1999-08-22\",\"male\":false,\"age\":21}],\"23\":[{\"name\":\"唐文昊\",\"birthday\":\"1997-03-06\",\"male\":true,\"age\":23},{\"name\":\"石金鑫\",\"birthday\":\"1997-02-08\",\"male\":false,\"age\":23}],\"24\":[{\"name\":\"韩天宇\",\"birthday\":\"1996-04-06\",\"male\":true,\"age\":24},{\"name\":\"贾思源\",\"birthday\":\"1996-05-10\",\"male\":true,\"age\":24}]}\n"
     ]
    }
   ],
   "source": [
    "# 触发复杂方法\n",
    "trigger('complex-user')"
   ]
  },
  {
   "cell_type": "code",
   "execution_count": 44,
   "metadata": {},
   "outputs": [],
   "source": [
    "# run(\"watch *WatchDemo adultUserGroup 'returnObj' -x 2\")\n",
    "\n",
    "# 观察20岁的男性用户\n",
    "cmd = \"\"\"\n",
    "watch *WatchDemo adultUserGroup\n",
    "'{returnObj.size, returnObj.keys,\n",
    "returnObj[20]==null?{}:returnObj[20].{? #this.male},\n",
    "params[0].{? #this.male && #this.age==20}.{name}}'\n",
    "-x2\n",
    "\"\"\"\n",
    "run(cmd.replace('\\n',' '))"
   ]
  },
  {
   "cell_type": "code",
   "execution_count": 48,
   "metadata": {},
   "outputs": [],
   "source": [
    "# 高级用法\n",
    "cmd = \"\"\"\n",
    "watch *WatchDemo supplyUser\n",
    "'#springContext=@top.abosen.toys.arthasdemo.context.ApplicationContextHelper@applicationContext,\n",
    "{#springContext.getBean(\"watchDemo\").consumeUser(returnObj), target.userCount, returnObj}'\n",
    "'returnObj.age>18' -n3 -x2\n",
    "\"\"\"\n",
    "run(cmd.replace('\\n',' '))"
   ]
  },
  {
   "cell_type": "markdown",
   "metadata": {},
   "source": [
    "### Monitor 执行方法监控\n",
    "`monitor` 对匹配 class-pattern／method-pattern的类、方法的调用进行监控  \n",
    "Usage:\n",
    "```\n",
    "monitor [-c <interval>] [-n <times>] [-E <value>] class-pattern method-pattern\n",
    "monitor org.apache.commons.lang.StringUtils isBlank -c 5\n",
    "```"
   ]
  },
  {
   "cell_type": "code",
   "execution_count": 52,
   "metadata": {},
   "outputs": [],
   "source": [
    "# 监测这个可能异常的方法\n",
    "run('monitor -c1 -n10 *WatchDemo consumeUser ')"
   ]
  },
  {
   "cell_type": "code",
   "execution_count": 53,
   "metadata": {
    "collapsed": true,
    "jupyter": {
     "outputs_hidden": true
    }
   },
   "outputs": [
    {
     "name": "stdout",
     "output_type": "stream",
     "text": [
      "禁止消费未成年人\n",
      "禁止消费未成年人\n",
      "薛明辉\n",
      "雷熠彤\n",
      "王旭尧\n",
      "傅哲瀚\n",
      "方果\n",
      "邱鸿煊\n",
      "严锦程\n",
      "覃乐驹\n",
      "卢健柏\n",
      "禁止消费未成年人\n",
      "蔡笑愚\n",
      "曾烨华\n",
      "尹鹏\n",
      "禁止消费未成年人\n",
      "吕伟诚\n",
      "禁止消费未成年人\n",
      "吴志泽\n",
      "禁止消费未成年人\n",
      "谢远航\n",
      "熊鸿涛\n",
      "龚嘉懿\n",
      "方煜城\n",
      "方修洁\n",
      "孙峻熙\n",
      "禁止消费未成年人\n",
      "程睿渊\n",
      "杜文轩\n",
      "禁止消费未成年人\n",
      "蒋风华\n",
      "禁止消费未成年人\n",
      "禁止消费未成年人\n",
      "禁止消费未成年人\n",
      "邵修洁\n",
      "禁止消费未成年人\n",
      "禁止消费未成年人\n",
      "禁止消费未成年人\n",
      "禁止消费未成年人\n",
      "覃立轩\n",
      "顾风华\n",
      "郝明哲\n",
      "丁志泽\n",
      "曹弘文\n",
      "许伟泽\n",
      "吴伟泽\n",
      "禁止消费未成年人\n",
      "钱伟祺\n",
      "沈思聪\n",
      "林航\n",
      "禁止消费未成年人\n",
      "禁止消费未成年人\n",
      "田钰轩\n",
      "唐鹏煊\n",
      "钟潇然\n",
      "禁止消费未成年人\n",
      "吴健雄\n",
      "郭越彬\n",
      "钟伟宸\n",
      "禁止消费未成年人\n",
      "禁止消费未成年人\n",
      "史明杰\n",
      "禁止消费未成年人\n",
      "禁止消费未成年人\n",
      "禁止消费未成年人\n",
      "禁止消费未成年人\n",
      "夏嘉懿\n",
      "禁止消费未成年人\n",
      "杜昊天\n",
      "禁止消费未成年人\n",
      "禁止消费未成年人\n",
      "禁止消费未成年人\n",
      "冯瑞霖\n",
      "禁止消费未成年人\n",
      "禁止消费未成年人\n",
      "邓荣轩\n",
      "禁止消费未成年人\n",
      "禁止消费未成年人\n",
      "罗荣轩\n",
      "谭炎彬\n",
      "禁止消费未成年人\n",
      "何烨磊\n",
      "禁止消费未成年人\n",
      "禁止消费未成年人\n",
      "叶晓博\n",
      "禁止消费未成年人\n",
      "禁止消费未成年人\n",
      "傅哲瀚\n",
      "于越泽\n",
      "禁止消费未成年人\n",
      "尹越彬\n",
      "宋思聪\n",
      "吴健柏\n",
      "侯修洁\n",
      "禁止消费未成年人\n",
      "徐远航\n",
      "禁止消费未成年人\n",
      "于文\n",
      "禁止消费未成年人\n",
      "禁止消费未成年人\n"
     ]
    }
   ],
   "source": [
    "from time import sleep\n",
    "for i in range(0,100):\n",
    "    trigger('consume-adult')\n",
    "    sleep(0.1)"
   ]
  },
  {
   "cell_type": "markdown",
   "metadata": {},
   "source": [
    "### tt 时空隧道，回溯调用\n",
    "`tt`开启 方法执行数据的时空隧道，记录下指定方法每次调用的入参和返回信息，\n",
    "并能对这些不同的时间下调用进行观测，复现场景。  \n",
    "[USAGE](https://arthas.gitee.io/tt.html):\n",
    "```\n",
    "tt [-tpi] [class-pattern] [method-pattern] [condition-express]\n",
    "```\n",
    "tt的问题:\n",
    "1. ThreadLocal 信息丢失\n",
    "    很多框架偷偷的将一些环境变量信息塞到了发起调用线程的 ThreadLocal 中，由于调用线程发生了变化，这些 ThreadLocal 线程信息无法通过 Arthas 保存，所以这些信息将会丢失。\n",
    "\n",
    "2. 引用的对象\n",
    "    需要强调的是，tt 命令是将当前环境的对象引用保存起来，但仅仅也只能保存一个引用而已。如果方法内部对入参进行了变更，或者返回的对象经过了后续的处理，那么在 tt 查看的时候将无法看到当时最准确的值。这也是为什么 watch 命令存在的意义。"
   ]
  },
  {
   "cell_type": "code",
   "execution_count": 56,
   "metadata": {},
   "outputs": [],
   "source": [
    "# 记录三次调用\n",
    "# run('tt -t *WatchDemo consumeUser -n10')\n",
    "\n",
    "# 观察调用信息\n",
    "# run('tt -i 1000')\n",
    "# 重放调用,适合微服务调试\n",
    "# run('tt -i 1000 -p')\n",
    "\n",
    "# 记录三次男性异常调用\n",
    "# run('tt -t -n3 *WatchDemo consumeUser \"isThrow && params[0].male\"')\n",
    "# 观察这些调用参数\n",
    "run(\"tt -s 'isThrow && params[0].male' -w params[0]\")"
   ]
  },
  {
   "cell_type": "code",
   "execution_count": 55,
   "metadata": {
    "collapsed": true,
    "jupyter": {
     "outputs_hidden": true
    }
   },
   "outputs": [
    {
     "name": "stdout",
     "output_type": "stream",
     "text": [
      "冯靖琪\n",
      "邓文轩\n",
      "苏睿渊\n",
      "禁止消费未成年人\n",
      "禁止消费未成年人\n",
      "杨文博\n",
      "禁止消费未成年人\n",
      "禁止消费未成年人\n",
      "高明辉\n",
      "禁止消费未成年人\n"
     ]
    }
   ],
   "source": [
    "from time import sleep\n",
    "for i in range(0,10):\n",
    "    trigger('consume-adult')\n",
    "    sleep(0.1)"
   ]
  },
  {
   "cell_type": "markdown",
   "metadata": {},
   "source": [
    "### stack 调用路径\n",
    "输出当前方法被调用的调用路径  \n",
    "USAGE:\n",
    "```\n",
    "stack [-n <times>] [-E] class-pattern [method-pattern] [condition-express]\n",
    "stack *StringUtils isBlank params[0].length==1\n",
    "```"
   ]
  },
  {
   "cell_type": "code",
   "execution_count": 50,
   "metadata": {},
   "outputs": [
    {
     "name": "stdout",
     "output_type": "stream",
     "text": [
      "谢天宇\n"
     ]
    }
   ],
   "source": [
    "# 查看正常返回方法的调用路径\n",
    "# run('stack *WatchDemo consumeUser isReturn')\n",
    "trigger('consume-adult')"
   ]
  },
  {
   "cell_type": "markdown",
   "metadata": {},
   "source": [
    "### trace 链路追踪\n",
    "USAGE:\n",
    "    \n",
    "```\n",
    "trace [-n <times>] [-p <path>] [-E] [--skipJDKMethod <true|false>] class-pattern method-pattern [condition-express]\n",
    "\n",
    "trace *StringUtils isBlank '#cost>100'\n",
    "```\n",
    "trace 命令能主动搜索 class-pattern／method-pattern 对应的方法调用路径，渲染和统计整个调用链路上的所有性能开销和追踪调用链路。\n"
   ]
  },
  {
   "cell_type": "code",
   "execution_count": 90,
   "metadata": {},
   "outputs": [
    {
     "name": "stdout",
     "output_type": "stream",
     "text": [
      "{\"total\":100,\"male\":45,\"female\":55,\"mostMaleBirthMonth\":5,\"mostFemaleBirthMonth\":10}\n"
     ]
    }
   ],
   "source": [
    "trigger('analyze-user')"
   ]
  },
  {
   "cell_type": "code",
   "execution_count": 89,
   "metadata": {},
   "outputs": [],
   "source": [
    "# run(\"trace *TraceDemo analyze -n1 \")\n",
    "# run(\"trace *TraceDemo analyze -n1 --skipJDKMethod false\")\n",
    "# 正则匹配，一次性匹配多个方法\n",
    "run(\"trace -E .*TraceDemo|.*UserRepository analyze|getOne -n1 --skipJDKMethod false\")"
   ]
  },
  {
   "cell_type": "markdown",
   "metadata": {},
   "source": [
    "## 热更新\n",
    "### jad,mc,redefine\n",
    "USAGE:  \n",
    "```\n",
    "jad [-c <classloader hash>] [--hideUnicode] [-E] [--source-only] class-pattern [method-name]\n",
    "jad --source-only java.lang.String\n",
    "```\n",
    "jad返回带有location,classloader信息,通常使用`jad --source-only class-pattern > /tmp/TheClass.java` 再配合`mc/redefine`使用\n"
   ]
  },
  {
   "cell_type": "code",
   "execution_count": null,
   "metadata": {},
   "outputs": [],
   "source": [
    "# 反编译成java文件，并修改\n",
    "run('jad --source-only *TraceDemo > /tmp/TraceDemo.java')"
   ]
  },
  {
   "cell_type": "code",
   "execution_count": null,
   "metadata": {},
   "outputs": [],
   "source": [
    "# 内存编译\n",
    "run('mc /tmp/TraceDemo.java -d /tmp')"
   ]
  },
  {
   "cell_type": "code",
   "execution_count": null,
   "metadata": {},
   "outputs": [],
   "source": [
    "# 重新加载class文件\n",
    "run('redefine /tmp/top/abosen/toys/arthasdemo/ognl/TraceDemo.class')\n",
    "# 或者从ide进行编译，可以链接其他类，供编译器进行相关类型推导\n",
    "# run('redefine /Users/qiubaisen/Documents/gitproject/arthas-demo/build/classes/java/main/top/abosen/toys/arthasdemo/ognl/TraceDemo.class')"
   ]
  },
  {
   "cell_type": "code",
   "execution_count": 65,
   "metadata": {},
   "outputs": [],
   "source": [
    "# 重新注册trigger, invokedynamic动态生产的类已经被替换掉了\n",
    "cmd = \"\"\"\n",
    "ognl '#springContext=@top.abosen.toys.arthasdemo.context.ApplicationContextHelper@applicationContext,\n",
    "#springContext.getBean(\"traceDemo\").init()'\n",
    "\"\"\"\n",
    "run(cmd.replace('\\n',' '))"
   ]
  },
  {
   "cell_type": "code",
   "execution_count": 87,
   "metadata": {},
   "outputs": [
    {
     "name": "stdout",
     "output_type": "stream",
     "text": [
      "{\"total\":100,\"male\":45,\"female\":55,\"mostMaleBirthMonth\":7,\"mostFemaleBirthMonth\":12}\n"
     ]
    }
   ],
   "source": [
    "trigger('analyze-user')"
   ]
  },
  {
   "cell_type": "markdown",
   "metadata": {},
   "source": [
    "**`redefine`的坑**\n",
    "1. 自身局限\n",
    "    * 不允许新增加field/method\n",
    "    * 正在跑的函数，没有退出不能生效\n",
    "2. `redefine`与`watch,tt,trace,jad,monitor`等增强可能冲突  \n",
    "    * 执行完redefine之后，如果再执行上面提到的命令，则会把redefine的字节码重置。 \n",
    "    * reset 命令对 redefine 无效。\n",
    "    * 参考[jad原理](https://github.com/alibaba/arthas/issues/763)\n",
    "\n",
    "3. [lambda导致redefine失败](https://www.robberphex.com/lambda-causes-arthas-cant-redefine/)\n",
    "\n",
    "    `lambda`编译后的方法签名`lambda$<methodname>$<lambdaCount>`,`jdk8u74-b02`版本后,`lambdaCount`按类单独计数，不再全局统一。\n",
    "    * 删除、新增lambda会创建新的方法，当前的`redefine`不支持。 删除lambda可以通过增加`if`条件，越过lambda而非删除完成。\n",
    "    * 线上编译环境与本地版本不一致，可以本地编译后，上传`class`文件，再使用`redefine`, 不可上传文件的环境参考[BASE64上传class文件](https://github.com/alibaba/arthas/issues/372)\n",
    "    * `lambda`方法返回值类型在`redefine`过程中也算作签名，参考[arthas redefine的坑](https://www.yuque.com/abosen/blogs/guuchv)"
   ]
  },
  {
   "cell_type": "markdown",
   "metadata": {},
   "source": [
    "## profiler\n",
    "使用`async-profiler`生成火焰图。\n",
    "`profiler`命令支持生成应用热点的火焰图。本质上是通过不断的采样，然后把收集到的采样结果生成火焰图。\n",
    " \n",
    "USAGE:\n",
    "```\n",
    "profiler [--allkernel] [--alluser] [-d <time>] [-e <event>] [-f <file name>] [--format <file format>] [-h] [-i <interval>] [--threads] action [actionArg]\n",
    "```\n",
    "\n",
    "[使用Chrome观察结果](http://localhost:3658/arthas-output/)\n"
   ]
  },
  {
   "cell_type": "code",
   "execution_count": 92,
   "metadata": {},
   "outputs": [
    {
     "name": "stdout",
     "output_type": "stream",
     "text": [
      "OK\n"
     ]
    }
   ],
   "source": [
    "# 1.运行要监测的热点程序\n",
    "trigger('start-profiler')"
   ]
  },
  {
   "cell_type": "code",
   "execution_count": 94,
   "metadata": {},
   "outputs": [],
   "source": [
    "# 2.使用profiler命令,对内存分配采样10s\n",
    "run('profiler -d 10 -e alloc -f arthas-output/output-alloc.svg start')"
   ]
  },
  {
   "cell_type": "code",
   "execution_count": 93,
   "metadata": {},
   "outputs": [],
   "source": [
    "# 3.对cpu指标进行采样\n",
    "run('profiler -d 10 -e cpu -f arthas-output/output-cpu.svg  start')"
   ]
  },
  {
   "cell_type": "code",
   "execution_count": 95,
   "metadata": {},
   "outputs": [
    {
     "name": "stdout",
     "output_type": "stream",
     "text": [
      "OK\n"
     ]
    }
   ],
   "source": [
    "# 4.停止热点程序\n",
    "trigger('stop-profiler')"
   ]
  },
  {
   "cell_type": "markdown",
   "metadata": {},
   "source": [
    "## 后台执行\n",
    "1. `&` 后台执行\n",
    "2. `jobs` 查看后台任务\n",
    "3. `ctrl z`暂停任务(当前版本与zsh冲突), `ctrl c`取消任务\n",
    "4. `fg,bg` 把任务置于前后台执行\n",
    "5. `kill` 关闭任务\n",
    "6. `quit` 退出arthas，不关闭后台\n"
   ]
  },
  {
   "cell_type": "code",
   "execution_count": null,
   "metadata": {},
   "outputs": [],
   "source": [
    "run('watch *WatchDemo consumeUser {params[0]} isThrow >> /tmp/async.out &')"
   ]
  },
  {
   "cell_type": "markdown",
   "metadata": {},
   "source": [
    "# 参考\n",
    "1. [Arthas官网命令详解](https://arthas.gitee.io/commands.html)\n",
    "2. [Arthas IDEA 插件](https://plugins.jetbrains.com/plugin/13581-arthas-idea)\n",
    "3. [Alibaba Cloud Toolkit](https://plugins.jetbrains.com/plugin/11386-alibaba-cloud-toolkit)\n",
    "4. [Async-profiler 实践](https://www.jianshu.com/p/918e1dce61cd)\n",
    "5. [Apache OGNL](https://commons.apache.org/proper/commons-ognl/language-guide.html)\n",
    "6. [jad原理](https://github.com/alibaba/arthas/issues/763)\n",
    "7. [BASE64上传class文件](https://github.com/alibaba/arthas/issues/372)\n",
    "8. [lambda导致redefine失败](https://www.robberphex.com/lambda-causes-arthas-cant-redefine/)\n",
    "9. [表达式核心变量](https://arthas.gitee.io/advice-class.html)\n",
    "10. [Artahs redefine踩坑](https://www.yuque.com/abosen/blogs/guuchv)\n",
    "11. [Spring Mvc Restul调优](https://www.yuque.com/abosen/blogs/bfzss2)"
   ]
  }
 ],
 "metadata": {
  "kernelspec": {
   "display_name": "Python 3",
   "language": "python",
   "name": "python3"
  },
  "language_info": {
   "codemirror_mode": {
    "name": "ipython",
    "version": 3
   },
   "file_extension": ".py",
   "mimetype": "text/x-python",
   "name": "python",
   "nbconvert_exporter": "python",
   "pygments_lexer": "ipython3",
   "version": "3.8.1"
  },
  "toc-autonumbering": true,
  "toc-showcode": false,
  "toc-showmarkdowntxt": false,
  "toc-showtags": false
 },
 "nbformat": 4,
 "nbformat_minor": 4
}
